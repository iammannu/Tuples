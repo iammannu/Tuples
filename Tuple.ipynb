{
 "cells": [
  {
   "cell_type": "code",
   "execution_count": 1,
   "id": "c14ab25a-c461-4c21-9241-a99bcfc94677",
   "metadata": {},
   "outputs": [
    {
     "data": {
      "text/plain": [
       "tuple"
      ]
     },
     "execution_count": 1,
     "metadata": {},
     "output_type": "execute_result"
    }
   ],
   "source": [
    "t = ()\n",
    "type(t)"
   ]
  },
  {
   "cell_type": "code",
   "execution_count": 2,
   "id": "da794cfd-1c58-4adb-abb6-97e224b7ae09",
   "metadata": {},
   "outputs": [
    {
     "data": {
      "text/plain": [
       "tuple"
      ]
     },
     "execution_count": 2,
     "metadata": {},
     "output_type": "execute_result"
    }
   ],
   "source": [
    "t1 = (45,55,75,1+2j,\"Manan Agrawal\")\n",
    "type(t1)"
   ]
  },
  {
   "cell_type": "code",
   "execution_count": 3,
   "id": "e79ff5ce-7ddc-4dab-8a7f-e249769a19de",
   "metadata": {},
   "outputs": [
    {
     "data": {
      "text/plain": [
       "list"
      ]
     },
     "execution_count": 3,
     "metadata": {},
     "output_type": "execute_result"
    }
   ],
   "source": [
    "l = [1,2,3,4]\n",
    "type(l)"
   ]
  },
  {
   "cell_type": "code",
   "execution_count": 4,
   "id": "eda7a880-90b6-4b96-b76d-a7cc0e02f258",
   "metadata": {},
   "outputs": [
    {
     "data": {
      "text/plain": [
       "45"
      ]
     },
     "execution_count": 4,
     "metadata": {},
     "output_type": "execute_result"
    }
   ],
   "source": [
    "t1[0]"
   ]
  },
  {
   "cell_type": "code",
   "execution_count": 6,
   "id": "8d0f9bc2-d646-4b36-b177-5cc6a0d46134",
   "metadata": {},
   "outputs": [
    {
     "data": {
      "text/plain": [
       "'Manan Agrawal'"
      ]
     },
     "execution_count": 6,
     "metadata": {},
     "output_type": "execute_result"
    }
   ],
   "source": [
    "t1[4]"
   ]
  },
  {
   "cell_type": "code",
   "execution_count": 8,
   "id": "6aabd7f2-2c78-49b7-ae84-51c548b9ada1",
   "metadata": {},
   "outputs": [
    {
     "data": {
      "text/plain": [
       "('Manan Agrawal', (1+2j), 75, 55, 45)"
      ]
     },
     "execution_count": 8,
     "metadata": {},
     "output_type": "execute_result"
    }
   ],
   "source": [
    "t1[::-1]"
   ]
  },
  {
   "cell_type": "code",
   "execution_count": 9,
   "id": "7791f351-9d79-48c7-a4ca-e7368c0f3b74",
   "metadata": {},
   "outputs": [
    {
     "data": {
      "text/plain": [
       "(45, 55, 75)"
      ]
     },
     "execution_count": 9,
     "metadata": {},
     "output_type": "execute_result"
    }
   ],
   "source": [
    "t1[0:3]"
   ]
  },
  {
   "cell_type": "code",
   "execution_count": 10,
   "id": "c393039e-3ba5-4ee0-b498-262a04b90b94",
   "metadata": {},
   "outputs": [
    {
     "data": {
      "text/plain": [
       "('Manan Agrawal', (1+2j), 75, 55, 45)"
      ]
     },
     "execution_count": 10,
     "metadata": {},
     "output_type": "execute_result"
    }
   ],
   "source": [
    "t1[::-1]"
   ]
  },
  {
   "cell_type": "code",
   "execution_count": 11,
   "id": "ce2be47c-c71d-481b-a0f0-b6f1b585cd9a",
   "metadata": {},
   "outputs": [
    {
     "data": {
      "text/plain": [
       "(45, 55, 75, (1+2j), 'Manan Agrawal')"
      ]
     },
     "execution_count": 11,
     "metadata": {},
     "output_type": "execute_result"
    }
   ],
   "source": [
    "t1"
   ]
  },
  {
   "cell_type": "code",
   "execution_count": 12,
   "id": "2a3bb01a-cc70-4064-8a5b-fd2a4ef99ca7",
   "metadata": {},
   "outputs": [],
   "source": [
    "t1 = t1[::-1]"
   ]
  },
  {
   "cell_type": "code",
   "execution_count": 13,
   "id": "81ed1af7-bab0-4ea0-9243-e640d34f19ef",
   "metadata": {},
   "outputs": [
    {
     "data": {
      "text/plain": [
       "('Manan Agrawal', (1+2j), 75, 55, 45)"
      ]
     },
     "execution_count": 13,
     "metadata": {},
     "output_type": "execute_result"
    }
   ],
   "source": [
    "t1"
   ]
  },
  {
   "cell_type": "code",
   "execution_count": 14,
   "id": "66af2f0c-3aa6-42ac-bb7d-62ad28695ec8",
   "metadata": {},
   "outputs": [
    {
     "data": {
      "text/plain": [
       "('Manan Agrawal', (1+2j), 75)"
      ]
     },
     "execution_count": 14,
     "metadata": {},
     "output_type": "execute_result"
    }
   ],
   "source": [
    "t1[0:3]"
   ]
  },
  {
   "cell_type": "code",
   "execution_count": 17,
   "id": "96717d44-2a09-456c-8335-c547d20217b8",
   "metadata": {},
   "outputs": [
    {
     "data": {
      "text/plain": [
       "1"
      ]
     },
     "execution_count": 17,
     "metadata": {},
     "output_type": "execute_result"
    }
   ],
   "source": [
    "t1.count('Manan Agrawal')"
   ]
  },
  {
   "cell_type": "code",
   "execution_count": 18,
   "id": "fa653cff-1393-409e-a864-8ade96db9a08",
   "metadata": {},
   "outputs": [
    {
     "data": {
      "text/plain": [
       "0"
      ]
     },
     "execution_count": 18,
     "metadata": {},
     "output_type": "execute_result"
    }
   ],
   "source": [
    "t1.count(5)"
   ]
  },
  {
   "cell_type": "code",
   "execution_count": 19,
   "id": "3a590db4-d121-456e-8fca-7f07109b55ba",
   "metadata": {},
   "outputs": [
    {
     "data": {
      "text/plain": [
       "3"
      ]
     },
     "execution_count": 19,
     "metadata": {},
     "output_type": "execute_result"
    }
   ],
   "source": [
    "t1.index(55)"
   ]
  },
  {
   "cell_type": "code",
   "execution_count": 20,
   "id": "6c583baf-c50b-4d9d-860e-db6c05197df2",
   "metadata": {},
   "outputs": [
    {
     "data": {
      "text/plain": [
       "4"
      ]
     },
     "execution_count": 20,
     "metadata": {},
     "output_type": "execute_result"
    }
   ],
   "source": [
    "t1.index(45)"
   ]
  },
  {
   "cell_type": "code",
   "execution_count": 21,
   "id": "1b12ce01-c784-45c1-b281-544dcc7be3ee",
   "metadata": {},
   "outputs": [
    {
     "data": {
      "text/plain": [
       "0"
      ]
     },
     "execution_count": 21,
     "metadata": {},
     "output_type": "execute_result"
    }
   ],
   "source": [
    "t1.index('Manan Agrawal')"
   ]
  },
  {
   "cell_type": "code",
   "execution_count": 25,
   "id": "3278dee5-ef60-41a0-a711-d8f6d8358538",
   "metadata": {},
   "outputs": [
    {
     "data": {
      "text/plain": [
       "2"
      ]
     },
     "execution_count": 25,
     "metadata": {},
     "output_type": "execute_result"
    }
   ],
   "source": [
    "t1.index(75)"
   ]
  },
  {
   "cell_type": "code",
   "execution_count": 27,
   "id": "91baab3a-95c9-409b-8256-b64fb5f8063e",
   "metadata": {},
   "outputs": [
    {
     "data": {
      "text/plain": [
       "0"
      ]
     },
     "execution_count": 27,
     "metadata": {},
     "output_type": "execute_result"
    }
   ],
   "source": [
    "t1.count(True)"
   ]
  },
  {
   "cell_type": "code",
   "execution_count": 28,
   "id": "05048b4a-d31b-4edc-b4f5-95f30c482008",
   "metadata": {},
   "outputs": [],
   "source": [
    "l = [1,2,3,4,5]"
   ]
  },
  {
   "cell_type": "code",
   "execution_count": 30,
   "id": "338bdfbd-1738-42ea-8a66-3e675a7c0ee5",
   "metadata": {},
   "outputs": [],
   "source": [
    "l[0] = 100"
   ]
  },
  {
   "cell_type": "code",
   "execution_count": 31,
   "id": "bdeb483b-b6aa-46aa-a75f-7798d0b19ef8",
   "metadata": {},
   "outputs": [
    {
     "data": {
      "text/plain": [
       "[100, 2, 3, 4, 5]"
      ]
     },
     "execution_count": 31,
     "metadata": {},
     "output_type": "execute_result"
    }
   ],
   "source": [
    "l"
   ]
  },
  {
   "cell_type": "code",
   "execution_count": 32,
   "id": "2434c872-2f17-44ee-910f-0b9e5a73f045",
   "metadata": {},
   "outputs": [
    {
     "data": {
      "text/plain": [
       "('Manan Agrawal', (1+2j), 75, 55, 45)"
      ]
     },
     "execution_count": 32,
     "metadata": {},
     "output_type": "execute_result"
    }
   ],
   "source": [
    "t1"
   ]
  },
  {
   "cell_type": "code",
   "execution_count": 33,
   "id": "43fea1c0-2c6b-4bc0-957c-2ddf18ba39dd",
   "metadata": {},
   "outputs": [
    {
     "name": "stdout",
     "output_type": "stream",
     "text": [
      "Manan Agrawal\n",
      "(1+2j)\n",
      "75\n",
      "55\n",
      "45\n"
     ]
    }
   ],
   "source": [
    "for i in t1:\n",
    "    print(i)"
   ]
  },
  {
   "cell_type": "code",
   "execution_count": 34,
   "id": "baf96bf2-7107-4d12-a13e-53fa86835d86",
   "metadata": {},
   "outputs": [
    {
     "name": "stdout",
     "output_type": "stream",
     "text": [
      "Manan Agrawal <class 'str'>\n",
      "(1+2j) <class 'complex'>\n",
      "75 <class 'int'>\n",
      "55 <class 'int'>\n",
      "45 <class 'int'>\n"
     ]
    }
   ],
   "source": [
    "for i in t1:\n",
    "    print(i,type(i))"
   ]
  },
  {
   "cell_type": "code",
   "execution_count": null,
   "id": "a5e1927b-3a0f-4d5b-a020-254062b58f6d",
   "metadata": {},
   "outputs": [],
   "source": []
  }
 ],
 "metadata": {
  "kernelspec": {
   "display_name": "Python 3 (ipykernel)",
   "language": "python",
   "name": "python3"
  },
  "language_info": {
   "codemirror_mode": {
    "name": "ipython",
    "version": 3
   },
   "file_extension": ".py",
   "mimetype": "text/x-python",
   "name": "python",
   "nbconvert_exporter": "python",
   "pygments_lexer": "ipython3",
   "version": "3.10.8"
  }
 },
 "nbformat": 4,
 "nbformat_minor": 5
}
